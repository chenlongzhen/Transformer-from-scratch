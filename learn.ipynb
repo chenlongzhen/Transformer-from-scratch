{
 "cells": [
  {
   "cell_type": "code",
   "execution_count": 2,
   "metadata": {},
   "outputs": [],
   "source": [
    "import os\n",
    "import requests\n",
    "import pandas as pd\n",
    "import matplotlib.pyplot as plt\n",
    "import math\n",
    "import tiktoken\n",
    "import torch\n",
    "import torch.nn as nn"
   ]
  },
  {
   "cell_type": "code",
   "execution_count": 3,
   "metadata": {},
   "outputs": [
    {
     "data": {
      "text/plain": [
       "'\\nThis notebook is to illustrate the Transformer architecture.\\nSteps are followed by my article post: \\nhttps://waylandzhang.github.io/en/let-s-code-llm.html\\n'"
      ]
     },
     "execution_count": 3,
     "metadata": {},
     "output_type": "execute_result"
    }
   ],
   "source": [
    "\"\"\"\n",
    "This notebook is to illustrate the Transformer architecture.\n",
    "Steps are followed by my article post: \n",
    "https://waylandzhang.github.io/en/let-s-code-llm.html\n",
    "\"\"\""
   ]
  },
  {
   "cell_type": "code",
   "execution_count": 4,
   "metadata": {},
   "outputs": [
    {
     "data": {
      "text/plain": [
       "<torch._C.Generator at 0x1243a8690>"
      ]
     },
     "execution_count": 4,
     "metadata": {},
     "output_type": "execute_result"
    }
   ],
   "source": [
    "# Hyperparameters\n",
    "batch_size = 4  # How many batches per training step\n",
    "context_length = 16  # Length of the token chunk each batch\n",
    "d_model = 64  # The vector size of the token embeddings\n",
    "num_layers = 8  # Number of transformer blocks\n",
    "num_heads = 4  # Number of heads in Multi-head attention # 我们的代码中通过 d_model / num_heads = 来获取 head_size\n",
    "learning_rate = 1e-3  # 0.001\n",
    "dropout = 0.1 # Dropout rate\n",
    "max_iters = 500  # Total of training iterations\n",
    "eval_interval = 50  # How often to evaluate the model \n",
    "eval_iters = 20  # How many iterations to average the loss over when evaluating the model\n",
    "device = 'cuda' if torch.cuda.is_available() else 'cpu'  # Instead of using the cpu, we'll use the GPU if it's available.\n",
    "\n",
    "TORCH_SEED = 1337\n",
    "torch.manual_seed(TORCH_SEED)"
   ]
  },
  {
   "cell_type": "code",
   "execution_count": 5,
   "metadata": {},
   "outputs": [],
   "source": [
    "# download a sample txt file from https://huggingface.co/datasets/goendalf666/sales-textbook_for_convincing_and_selling/raw/main/sales_textbook.txt\n",
    "if not os.path.exists('data/sales_textbook.txt'):\n",
    "    url = 'https://huggingface.co/datasets/goendalf666/sales-textbook_for_convincing_and_selling/raw/main/sales_textbook.txt'\n",
    "    with open('sales_textbook.txt', 'w') as f:\n",
    "        f.write(requests.get(url).text)\n",
    "\n",
    "with open('data/sales_textbook.txt', 'r', encoding='utf-8') as f:\n",
    "    text = f.read()\n",
    "    \n",
    "    "
   ]
  },
  {
   "cell_type": "code",
   "execution_count": 6,
   "metadata": {},
   "outputs": [
    {
     "name": "stdout",
     "output_type": "stream",
     "text": [
      "Tokenized text size: 77919\n",
      "The maximum value in the tokenized text is: 100069\n"
     ]
    }
   ],
   "source": [
    "# Using TikToken to tokenize the source text\n",
    "encoding = tiktoken.get_encoding(\"cl100k_base\")\n",
    "tokenized_text = encoding.encode(text)\n",
    "tokenized_text = torch.tensor(tokenized_text, dtype=torch.long, device=device) # Convert tokens into a tensor\n",
    "max_token_value = tokenized_text.max().item() # the maximum index value in our vocabulary\n",
    "\n",
    "print(f\"Tokenized text size: {len(tokenized_text)}\")\n",
    "print(f\"The maximum value in the tokenized text is: {max_token_value}\")"
   ]
  },
  {
   "cell_type": "code",
   "execution_count": 7,
   "metadata": {},
   "outputs": [
    {
     "data": {
      "text/plain": [
       "100069"
      ]
     },
     "execution_count": 7,
     "metadata": {},
     "output_type": "execute_result"
    }
   ],
   "source": [
    "tokenized_text.max().item()"
   ]
  },
  {
   "cell_type": "code",
   "execution_count": 8,
   "metadata": {},
   "outputs": [
    {
     "name": "stdout",
     "output_type": "stream",
     "text": [
      "[82805, 33746, 59795, 57668, 53901]\n"
     ]
    }
   ],
   "source": [
    "# Illustration purpose\n",
    "print(encoding.encode('测试aaa中国你好'))\n",
    "\n"
   ]
  },
  {
   "cell_type": "code",
   "execution_count": 9,
   "metadata": {},
   "outputs": [
    {
     "name": "stdout",
     "output_type": "stream",
     "text": [
      "测试aaa中国\n"
     ]
    }
   ],
   "source": [
    "print(encoding.decode([82805, 33746, 59795])) # \"Rapport\" is tokenized as two tokens: \"Rap\"[23097] and \"port\"[403]"
   ]
  },
  {
   "cell_type": "code",
   "execution_count": 10,
   "metadata": {},
   "outputs": [],
   "source": [
    "# Split train and validation\n",
    "split_idx = int(len(tokenized_text) * 0.9)\n",
    "train_data = tokenized_text[:split_idx]\n",
    "val_data = tokenized_text[split_idx:]"
   ]
  },
  {
   "cell_type": "code",
   "execution_count": 11,
   "metadata": {},
   "outputs": [
    {
     "data": {
      "text/plain": [
       "tensor([26072,   220,    16,  ...,  1501, 48451,  7119])"
      ]
     },
     "execution_count": 11,
     "metadata": {},
     "output_type": "execute_result"
    }
   ],
   "source": [
    "train_data"
   ]
  },
  {
   "cell_type": "code",
   "execution_count": 12,
   "metadata": {},
   "outputs": [
    {
     "name": "stdout",
     "output_type": "stream",
     "text": [
      "torch.Size([4, 16]) torch.Size([4, 16])\n"
     ]
    }
   ],
   "source": [
    "# Prepare data for training batch\n",
    "data = train_data\n",
    "idxs = torch.randint(low=0, high=len(data) - context_length, size=(batch_size,))\n",
    "x_batch = torch.stack([data[idx:idx + context_length] for idx in idxs])\n",
    "y_batch = torch.stack([data[idx + 1:idx + context_length + 1] for idx in idxs])\n",
    "print(x_batch.shape, x_batch.shape)"
   ]
  },
  {
   "cell_type": "code",
   "execution_count": 13,
   "metadata": {},
   "outputs": [
    {
     "name": "stdout",
     "output_type": "stream",
     "text": [
      "Our batches:\n",
      "       0      1     2      3     4      5      6      7      8      9    10     11     12     13     14     15\n",
      "0    279   6763  1920     13   578   5845    311  13750  19570    279  907    323   7720    315   1057   3956\n",
      "1   3495  14955    11    477  5064  23146    430   9788    279  66732  315    701  10209     13   3296  32644\n",
      "2  38769  10742    11  20958   264   6928  19451     11  11125  64784   11    323  56501  54111    439   6975\n",
      "3  43496    872  8830    719  1101   3727    279   6130   2733   6755  323  16365    627  29831  19682   5900\n"
     ]
    }
   ],
   "source": [
    "# Illustration purpose\n",
    "pd.set_option('display.expand_frame_repr', False)\n",
    "print(\"Our batches:\\n\", pd.DataFrame(x_batch.data.detach().cpu().numpy()))"
   ]
  },
  {
   "cell_type": "code",
   "execution_count": 14,
   "metadata": {},
   "outputs": [
    {
     "name": "stdout",
     "output_type": "stream",
     "text": [
      "Token Embedding Look-up table:  Embedding(100070, 64)\n"
     ]
    }
   ],
   "source": [
    "# Define Token Embedding look-up table\n",
    "token_embedding_lookup_table = nn.Embedding(max_token_value+1, d_model)\n",
    "print(\"Token Embedding Look-up table: \", token_embedding_lookup_table)"
   ]
  },
  {
   "cell_type": "code",
   "execution_count": 15,
   "metadata": {},
   "outputs": [
    {
     "data": {
      "text/plain": [
       "(4, 16)"
      ]
     },
     "execution_count": 15,
     "metadata": {},
     "output_type": "execute_result"
    }
   ],
   "source": [
    "x_batch.data.numpy().shape"
   ]
  },
  {
   "cell_type": "code",
   "execution_count": 16,
   "metadata": {},
   "outputs": [
    {
     "data": {
      "text/plain": [
       "(torch.Size([4, 16, 64]), torch.Size([4, 16, 64]))"
      ]
     },
     "execution_count": 16,
     "metadata": {},
     "output_type": "execute_result"
    }
   ],
   "source": [
    "# Get x and y embedding\n",
    "x_batch_embedding = token_embedding_lookup_table(x_batch.data) # [4, 16, 64] [batch_size, context_length, d_model]\n",
    "y_batch_embedding = token_embedding_lookup_table(y_batch.data)\n",
    "\n",
    "x_batch_embedding.shape, y_batch_embedding.shape"
   ]
  },
  {
   "cell_type": "code",
   "execution_count": 17,
   "metadata": {},
   "outputs": [],
   "source": [
    "P = torch.zeros(context_length, d_model)\n",
    "position = torch.arange(0, context_length, dtype=torch.float)\n",
    "div_term = torch.exp(torch.arange(0, d_model, 2).float() * \n",
    "                     (-math.log(10000)/d_model))\n",
    "P[:,0::2] = torch.sin(position.unsqueeze(1) * div_term)\n",
    "P[:,1::2] = torch.cos(position.unsqueeze(1) * div_term)\n",
    "position_encoding_lookup_table = P.unsqueeze(0).expand(batch_size, -1, -1)\n",
    "\n"
   ]
  },
  {
   "cell_type": "code",
   "execution_count": 18,
   "metadata": {},
   "outputs": [
    {
     "data": {
      "text/plain": [
       "torch.Size([16, 64])"
      ]
     },
     "execution_count": 18,
     "metadata": {},
     "output_type": "execute_result"
    }
   ],
   "source": [
    "P.shape"
   ]
  },
  {
   "cell_type": "code",
   "execution_count": 19,
   "metadata": {},
   "outputs": [
    {
     "data": {
      "text/plain": [
       "torch.Size([16, 1])"
      ]
     },
     "execution_count": 19,
     "metadata": {},
     "output_type": "execute_result"
    }
   ],
   "source": [
    "position.unsqueeze(1).shape"
   ]
  },
  {
   "cell_type": "code",
   "execution_count": 20,
   "metadata": {},
   "outputs": [
    {
     "data": {
      "text/plain": [
       "torch.Size([16, 32])"
      ]
     },
     "execution_count": 20,
     "metadata": {},
     "output_type": "execute_result"
    }
   ],
   "source": [
    "a=position.unsqueeze(1) * div_term\n",
    "a.shape"
   ]
  },
  {
   "cell_type": "code",
   "execution_count": 22,
   "metadata": {},
   "outputs": [
    {
     "data": {
      "image/png": "[encoded data removed]",
      "text/plain": [
       "<Figure size 640x480 with 2 Axes>"
      ]
     },
     "metadata": {},
     "output_type": "display_data"
    }
   ],
   "source": [
    "# Illustration Purpose Only\n",
    "def visualize_pe(pe):\n",
    "    plt.imshow(pe, aspect=\"auto\")\n",
    "    plt.title(\"Positional Encoding\")\n",
    "    plt.xlabel(\"Encoding Dimension\")\n",
    "    plt.ylabel(\"Position Index\")\n",
    "    plt.colorbar()\n",
    "    plt.show()\n",
    "\n",
    "position_encoding_lookup_table2_np = position_encoding_lookup_table[0].cpu().numpy()\n",
    "visualize_pe(position_encoding_lookup_table2_np)"
   ]
  },
  {
   "cell_type": "code",
   "execution_count": 26,
   "metadata": {},
   "outputs": [],
   "source": [
    "input_embedding_x = x_batch_embedding + position_encoding_lookup_table\n",
    "input_embedding_y = y_batch_embedding + position_encoding_lookup_table"
   ]
  },
  {
   "cell_type": "code",
   "execution_count": 34,
   "metadata": {},
   "outputs": [
    {
     "data": {
      "text/plain": [
       "torch.Size([4, 16, 64])"
      ]
     },
     "execution_count": 34,
     "metadata": {},
     "output_type": "execute_result"
    }
   ],
   "source": [
    "X = input_embedding_x\n",
    "query = key = value = X\n",
    "query.shape"
   ]
  },
  {
   "cell_type": "code",
   "execution_count": 36,
   "metadata": {},
   "outputs": [],
   "source": [
    "Wq = nn.Linear(d_model, d_model)\n",
    "Wk = nn.Linear(d_model, d_model)\n",
    "Wv = nn.Linear(d_model, d_model)\n",
    "\n",
    "Q = Wq(query)\n",
    "Q = Q.view(batch_size, context_length, num_heads, d_model//num_heads)\n",
    "\n",
    "\n",
    "K = Wk(key)\n",
    "K = K.view(batch_size, context_length, num_heads, d_model//num_heads)\n",
    "\n",
    "\n",
    "V= Wv(value)\n",
    "V = V.view(batch_size, context_length, num_heads, d_model//num_heads)\n",
    "\n"
   ]
  },
  {
   "cell_type": "code",
   "execution_count": 37,
   "metadata": {},
   "outputs": [
    {
     "data": {
      "text/plain": [
       "torch.Size([4, 16, 4, 16])"
      ]
     },
     "execution_count": 37,
     "metadata": {},
     "output_type": "execute_result"
    }
   ],
   "source": [
    "Q.shape"
   ]
  },
  {
   "cell_type": "code",
   "execution_count": 41,
   "metadata": {},
   "outputs": [],
   "source": [
    "Q = Q.transpose(1,2) # head和length转置\n",
    "K = K.transpose(1,2) # head和length转置\n",
    "V = V.transpose(1,2) # head和length转置"
   ]
  },
  {
   "cell_type": "code",
   "execution_count": 42,
   "metadata": {},
   "outputs": [
    {
     "data": {
      "text/plain": [
       "torch.Size([4, 4, 16, 16])"
      ]
     },
     "execution_count": 42,
     "metadata": {},
     "output_type": "execute_result"
    }
   ],
   "source": [
    "Q.shape"
   ]
  },
  {
   "cell_type": "code",
   "execution_count": 46,
   "metadata": {},
   "outputs": [
    {
     "data": {
      "text/plain": [
       "<matplotlib.image.AxesImage at 0x13524ade0>"
      ]
     },
     "execution_count": 46,
     "metadata": {},
     "output_type": "execute_result"
    },
    {
     "data": {
      "image/png": "[encoded data removed]",
      "text/plain": [
       "<Figure size 640x480 with 1 Axes>"
      ]
     },
     "metadata": {},
     "output_type": "display_data"
    }
   ],
   "source": [
    "\n",
    "attenstion_score = torch.matmul(Q, K.transpose(2,3)/math.sqrt(d_model//num_heads))\n",
    "\n",
    "attenstion_score[0,0].detach().cpu().numpy()\n",
    "# Illustration only\n",
    "plt.imshow(attenstion_score[0, 0].detach().cpu().numpy(), \"Accent\", aspect=\"auto\")\n"
   ]
  },
  {
   "cell_type": "code",
   "execution_count": 100,
   "metadata": {},
   "outputs": [],
   "source": [
    "tr = torch.triu(torch.ones(attenstion_score.shape[-2:]),diagonal=1).bool()\n",
    "attention_score = attenstion_score.masked_fill(tr, float('-inf'))\n"
   ]
  },
  {
   "cell_type": "code",
   "execution_count": 101,
   "metadata": {},
   "outputs": [
    {
     "data": {
      "text/plain": [
       "torch.Size([4, 4, 16, 16])"
      ]
     },
     "execution_count": 101,
     "metadata": {},
     "output_type": "execute_result"
    }
   ],
   "source": [
    "attention_score.shape"
   ]
  },
  {
   "cell_type": "code",
   "execution_count": 102,
   "metadata": {},
   "outputs": [
    {
     "data": {
      "text/plain": [
       "<matplotlib.image.AxesImage at 0x131b6b2f0>"
      ]
     },
     "execution_count": 102,
     "metadata": {},
     "output_type": "execute_result"
    },
    {
     "data": {
      "image/png": "[encoded data removed]",
      "text/plain": [
       "<Figure size 640x480 with 1 Axes>"
      ]
     },
     "metadata": {},
     "output_type": "display_data"
    }
   ],
   "source": [
    "\n",
    "# Illustration only\n",
    "# -inf 是因为要取e，然后才是0\n",
    "plt.imshow(attention_score[1, 1].detach().cpu().numpy(), \"Accent\", aspect=\"auto\")\n"
   ]
  },
  {
   "cell_type": "code",
   "execution_count": 103,
   "metadata": {},
   "outputs": [],
   "source": [
    "attention_score = torch.softmax(attenstion_score, dim=-1)\n",
    "A = torch.matmul(attention_score, V) "
   ]
  },
  {
   "cell_type": "code",
   "execution_count": 104,
   "metadata": {},
   "outputs": [
    {
     "data": {
      "text/html": [
       "<div>\n",
       "<style scoped>\n",
       "    .dataframe tbody tr th:only-of-type {\n",
       "        vertical-align: middle;\n",
       "    }\n",
       "\n",
       "    .dataframe tbody tr th {\n",
       "        vertical-align: top;\n",
       "    }\n",
       "\n",
       "    .dataframe thead th {\n",
       "        text-align: right;\n",
       "    }\n",
       "</style>\n",
       "<table border=\"1\" class=\"dataframe\">\n",
       "  <thead>\n",
       "    <tr style=\"text-align: right;\">\n",
       "      <th></th>\n",
       "      <th>0</th>\n",
       "      <th>1</th>\n",
       "      <th>2</th>\n",
       "      <th>3</th>\n",
       "      <th>4</th>\n",
       "      <th>5</th>\n",
       "      <th>6</th>\n",
       "      <th>7</th>\n",
       "      <th>8</th>\n",
       "      <th>9</th>\n",
       "      <th>10</th>\n",
       "      <th>11</th>\n",
       "      <th>12</th>\n",
       "      <th>13</th>\n",
       "      <th>14</th>\n",
       "      <th>15</th>\n",
       "    </tr>\n",
       "  </thead>\n",
       "  <tbody>\n",
       "    <tr>\n",
       "      <th>0</th>\n",
       "      <td>1.000000</td>\n",
       "      <td>0.000000</td>\n",
       "      <td>0.000000</td>\n",
       "      <td>0.000000</td>\n",
       "      <td>0.000000</td>\n",
       "      <td>0.000000</td>\n",
       "      <td>0.000000</td>\n",
       "      <td>0.000000</td>\n",
       "      <td>0.000000</td>\n",
       "      <td>0.000000</td>\n",
       "      <td>0.000000</td>\n",
       "      <td>0.000000</td>\n",
       "      <td>0.000000</td>\n",
       "      <td>0.000000</td>\n",
       "      <td>0.000000</td>\n",
       "      <td>0.000000</td>\n",
       "    </tr>\n",
       "    <tr>\n",
       "      <th>1</th>\n",
       "      <td>0.632661</td>\n",
       "      <td>0.367339</td>\n",
       "      <td>0.000000</td>\n",
       "      <td>0.000000</td>\n",
       "      <td>0.000000</td>\n",
       "      <td>0.000000</td>\n",
       "      <td>0.000000</td>\n",
       "      <td>0.000000</td>\n",
       "      <td>0.000000</td>\n",
       "      <td>0.000000</td>\n",
       "      <td>0.000000</td>\n",
       "      <td>0.000000</td>\n",
       "      <td>0.000000</td>\n",
       "      <td>0.000000</td>\n",
       "      <td>0.000000</td>\n",
       "      <td>0.000000</td>\n",
       "    </tr>\n",
       "    <tr>\n",
       "      <th>2</th>\n",
       "      <td>0.248945</td>\n",
       "      <td>0.227388</td>\n",
       "      <td>0.523668</td>\n",
       "      <td>0.000000</td>\n",
       "      <td>0.000000</td>\n",
       "      <td>0.000000</td>\n",
       "      <td>0.000000</td>\n",
       "      <td>0.000000</td>\n",
       "      <td>0.000000</td>\n",
       "      <td>0.000000</td>\n",
       "      <td>0.000000</td>\n",
       "      <td>0.000000</td>\n",
       "      <td>0.000000</td>\n",
       "      <td>0.000000</td>\n",
       "      <td>0.000000</td>\n",
       "      <td>0.000000</td>\n",
       "    </tr>\n",
       "    <tr>\n",
       "      <th>3</th>\n",
       "      <td>0.234353</td>\n",
       "      <td>0.281509</td>\n",
       "      <td>0.321676</td>\n",
       "      <td>0.162463</td>\n",
       "      <td>0.000000</td>\n",
       "      <td>0.000000</td>\n",
       "      <td>0.000000</td>\n",
       "      <td>0.000000</td>\n",
       "      <td>0.000000</td>\n",
       "      <td>0.000000</td>\n",
       "      <td>0.000000</td>\n",
       "      <td>0.000000</td>\n",
       "      <td>0.000000</td>\n",
       "      <td>0.000000</td>\n",
       "      <td>0.000000</td>\n",
       "      <td>0.000000</td>\n",
       "    </tr>\n",
       "    <tr>\n",
       "      <th>4</th>\n",
       "      <td>0.234260</td>\n",
       "      <td>0.197167</td>\n",
       "      <td>0.201268</td>\n",
       "      <td>0.228996</td>\n",
       "      <td>0.138309</td>\n",
       "      <td>0.000000</td>\n",
       "      <td>0.000000</td>\n",
       "      <td>0.000000</td>\n",
       "      <td>0.000000</td>\n",
       "      <td>0.000000</td>\n",
       "      <td>0.000000</td>\n",
       "      <td>0.000000</td>\n",
       "      <td>0.000000</td>\n",
       "      <td>0.000000</td>\n",
       "      <td>0.000000</td>\n",
       "      <td>0.000000</td>\n",
       "    </tr>\n",
       "    <tr>\n",
       "      <th>5</th>\n",
       "      <td>0.216887</td>\n",
       "      <td>0.179086</td>\n",
       "      <td>0.181667</td>\n",
       "      <td>0.163415</td>\n",
       "      <td>0.139926</td>\n",
       "      <td>0.119019</td>\n",
       "      <td>0.000000</td>\n",
       "      <td>0.000000</td>\n",
       "      <td>0.000000</td>\n",
       "      <td>0.000000</td>\n",
       "      <td>0.000000</td>\n",
       "      <td>0.000000</td>\n",
       "      <td>0.000000</td>\n",
       "      <td>0.000000</td>\n",
       "      <td>0.000000</td>\n",
       "      <td>0.000000</td>\n",
       "    </tr>\n",
       "    <tr>\n",
       "      <th>6</th>\n",
       "      <td>0.155953</td>\n",
       "      <td>0.125688</td>\n",
       "      <td>0.166474</td>\n",
       "      <td>0.103770</td>\n",
       "      <td>0.114820</td>\n",
       "      <td>0.179286</td>\n",
       "      <td>0.154009</td>\n",
       "      <td>0.000000</td>\n",
       "      <td>0.000000</td>\n",
       "      <td>0.000000</td>\n",
       "      <td>0.000000</td>\n",
       "      <td>0.000000</td>\n",
       "      <td>0.000000</td>\n",
       "      <td>0.000000</td>\n",
       "      <td>0.000000</td>\n",
       "      <td>0.000000</td>\n",
       "    </tr>\n",
       "    <tr>\n",
       "      <th>7</th>\n",
       "      <td>0.102176</td>\n",
       "      <td>0.079344</td>\n",
       "      <td>0.143639</td>\n",
       "      <td>0.072864</td>\n",
       "      <td>0.047244</td>\n",
       "      <td>0.164770</td>\n",
       "      <td>0.128865</td>\n",
       "      <td>0.261099</td>\n",
       "      <td>0.000000</td>\n",
       "      <td>0.000000</td>\n",
       "      <td>0.000000</td>\n",
       "      <td>0.000000</td>\n",
       "      <td>0.000000</td>\n",
       "      <td>0.000000</td>\n",
       "      <td>0.000000</td>\n",
       "      <td>0.000000</td>\n",
       "    </tr>\n",
       "    <tr>\n",
       "      <th>8</th>\n",
       "      <td>0.119759</td>\n",
       "      <td>0.093414</td>\n",
       "      <td>0.164766</td>\n",
       "      <td>0.041559</td>\n",
       "      <td>0.226289</td>\n",
       "      <td>0.137991</td>\n",
       "      <td>0.063848</td>\n",
       "      <td>0.088932</td>\n",
       "      <td>0.063442</td>\n",
       "      <td>0.000000</td>\n",
       "      <td>0.000000</td>\n",
       "      <td>0.000000</td>\n",
       "      <td>0.000000</td>\n",
       "      <td>0.000000</td>\n",
       "      <td>0.000000</td>\n",
       "      <td>0.000000</td>\n",
       "    </tr>\n",
       "    <tr>\n",
       "      <th>9</th>\n",
       "      <td>0.114367</td>\n",
       "      <td>0.078637</td>\n",
       "      <td>0.089275</td>\n",
       "      <td>0.079248</td>\n",
       "      <td>0.166835</td>\n",
       "      <td>0.097999</td>\n",
       "      <td>0.071462</td>\n",
       "      <td>0.037701</td>\n",
       "      <td>0.131573</td>\n",
       "      <td>0.132903</td>\n",
       "      <td>0.000000</td>\n",
       "      <td>0.000000</td>\n",
       "      <td>0.000000</td>\n",
       "      <td>0.000000</td>\n",
       "      <td>0.000000</td>\n",
       "      <td>0.000000</td>\n",
       "    </tr>\n",
       "    <tr>\n",
       "      <th>10</th>\n",
       "      <td>0.093755</td>\n",
       "      <td>0.121632</td>\n",
       "      <td>0.149572</td>\n",
       "      <td>0.061721</td>\n",
       "      <td>0.061797</td>\n",
       "      <td>0.087108</td>\n",
       "      <td>0.058683</td>\n",
       "      <td>0.075271</td>\n",
       "      <td>0.095158</td>\n",
       "      <td>0.085225</td>\n",
       "      <td>0.110078</td>\n",
       "      <td>0.000000</td>\n",
       "      <td>0.000000</td>\n",
       "      <td>0.000000</td>\n",
       "      <td>0.000000</td>\n",
       "      <td>0.000000</td>\n",
       "    </tr>\n",
       "    <tr>\n",
       "      <th>11</th>\n",
       "      <td>0.086692</td>\n",
       "      <td>0.092841</td>\n",
       "      <td>0.083757</td>\n",
       "      <td>0.060321</td>\n",
       "      <td>0.089097</td>\n",
       "      <td>0.080560</td>\n",
       "      <td>0.097089</td>\n",
       "      <td>0.069231</td>\n",
       "      <td>0.095888</td>\n",
       "      <td>0.088481</td>\n",
       "      <td>0.079536</td>\n",
       "      <td>0.076506</td>\n",
       "      <td>0.000000</td>\n",
       "      <td>0.000000</td>\n",
       "      <td>0.000000</td>\n",
       "      <td>0.000000</td>\n",
       "    </tr>\n",
       "    <tr>\n",
       "      <th>12</th>\n",
       "      <td>0.097857</td>\n",
       "      <td>0.083843</td>\n",
       "      <td>0.079063</td>\n",
       "      <td>0.029384</td>\n",
       "      <td>0.171486</td>\n",
       "      <td>0.069977</td>\n",
       "      <td>0.100787</td>\n",
       "      <td>0.045410</td>\n",
       "      <td>0.051639</td>\n",
       "      <td>0.116808</td>\n",
       "      <td>0.033767</td>\n",
       "      <td>0.046099</td>\n",
       "      <td>0.073881</td>\n",
       "      <td>0.000000</td>\n",
       "      <td>0.000000</td>\n",
       "      <td>0.000000</td>\n",
       "    </tr>\n",
       "    <tr>\n",
       "      <th>13</th>\n",
       "      <td>0.052593</td>\n",
       "      <td>0.036012</td>\n",
       "      <td>0.069540</td>\n",
       "      <td>0.033909</td>\n",
       "      <td>0.088271</td>\n",
       "      <td>0.094895</td>\n",
       "      <td>0.068862</td>\n",
       "      <td>0.068965</td>\n",
       "      <td>0.081068</td>\n",
       "      <td>0.068838</td>\n",
       "      <td>0.117194</td>\n",
       "      <td>0.038621</td>\n",
       "      <td>0.112837</td>\n",
       "      <td>0.068395</td>\n",
       "      <td>0.000000</td>\n",
       "      <td>0.000000</td>\n",
       "    </tr>\n",
       "    <tr>\n",
       "      <th>14</th>\n",
       "      <td>0.091728</td>\n",
       "      <td>0.049098</td>\n",
       "      <td>0.055272</td>\n",
       "      <td>0.061643</td>\n",
       "      <td>0.096471</td>\n",
       "      <td>0.060079</td>\n",
       "      <td>0.050690</td>\n",
       "      <td>0.049731</td>\n",
       "      <td>0.062756</td>\n",
       "      <td>0.078592</td>\n",
       "      <td>0.079801</td>\n",
       "      <td>0.038864</td>\n",
       "      <td>0.047996</td>\n",
       "      <td>0.091986</td>\n",
       "      <td>0.085295</td>\n",
       "      <td>0.000000</td>\n",
       "    </tr>\n",
       "    <tr>\n",
       "      <th>15</th>\n",
       "      <td>0.120669</td>\n",
       "      <td>0.048604</td>\n",
       "      <td>0.050867</td>\n",
       "      <td>0.055649</td>\n",
       "      <td>0.116091</td>\n",
       "      <td>0.058987</td>\n",
       "      <td>0.039215</td>\n",
       "      <td>0.045867</td>\n",
       "      <td>0.032859</td>\n",
       "      <td>0.084262</td>\n",
       "      <td>0.053084</td>\n",
       "      <td>0.033671</td>\n",
       "      <td>0.044168</td>\n",
       "      <td>0.077081</td>\n",
       "      <td>0.077138</td>\n",
       "      <td>0.061789</td>\n",
       "    </tr>\n",
       "  </tbody>\n",
       "</table>\n",
       "</div>"
      ],
      "text/plain": [
       "          0         1         2         3         4         5         6         7         8         9         10        11        12        13        14        15\n",
       "0   1.000000  0.000000  0.000000  0.000000  0.000000  0.000000  0.000000  0.000000  0.000000  0.000000  0.000000  0.000000  0.000000  0.000000  0.000000  0.000000\n",
       "1   0.632661  0.367339  0.000000  0.000000  0.000000  0.000000  0.000000  0.000000  0.000000  0.000000  0.000000  0.000000  0.000000  0.000000  0.000000  0.000000\n",
       "2   0.248945  0.227388  0.523668  0.000000  0.000000  0.000000  0.000000  0.000000  0.000000  0.000000  0.000000  0.000000  0.000000  0.000000  0.000000  0.000000\n",
       "3   0.234353  0.281509  0.321676  0.162463  0.000000  0.000000  0.000000  0.000000  0.000000  0.000000  0.000000  0.000000  0.000000  0.000000  0.000000  0.000000\n",
       "4   0.234260  0.197167  0.201268  0.228996  0.138309  0.000000  0.000000  0.000000  0.000000  0.000000  0.000000  0.000000  0.000000  0.000000  0.000000  0.000000\n",
       "5   0.216887  0.179086  0.181667  0.163415  0.139926  0.119019  0.000000  0.000000  0.000000  0.000000  0.000000  0.000000  0.000000  0.000000  0.000000  0.000000\n",
       "6   0.155953  0.125688  0.166474  0.103770  0.114820  0.179286  0.154009  0.000000  0.000000  0.000000  0.000000  0.000000  0.000000  0.000000  0.000000  0.000000\n",
       "7   0.102176  0.079344  0.143639  0.072864  0.047244  0.164770  0.128865  0.261099  0.000000  0.000000  0.000000  0.000000  0.000000  0.000000  0.000000  0.000000\n",
       "8   0.119759  0.093414  0.164766  0.041559  0.226289  0.137991  0.063848  0.088932  0.063442  0.000000  0.000000  0.000000  0.000000  0.000000  0.000000  0.000000\n",
       "9   0.114367  0.078637  0.089275  0.079248  0.166835  0.097999  0.071462  0.037701  0.131573  0.132903  0.000000  0.000000  0.000000  0.000000  0.000000  0.000000\n",
       "10  0.093755  0.121632  0.149572  0.061721  0.061797  0.087108  0.058683  0.075271  0.095158  0.085225  0.110078  0.000000  0.000000  0.000000  0.000000  0.000000\n",
       "11  0.086692  0.092841  0.083757  0.060321  0.089097  0.080560  0.097089  0.069231  0.095888  0.088481  0.079536  0.076506  0.000000  0.000000  0.000000  0.000000\n",
       "12  0.097857  0.083843  0.079063  0.029384  0.171486  0.069977  0.100787  0.045410  0.051639  0.116808  0.033767  0.046099  0.073881  0.000000  0.000000  0.000000\n",
       "13  0.052593  0.036012  0.069540  0.033909  0.088271  0.094895  0.068862  0.068965  0.081068  0.068838  0.117194  0.038621  0.112837  0.068395  0.000000  0.000000\n",
       "14  0.091728  0.049098  0.055272  0.061643  0.096471  0.060079  0.050690  0.049731  0.062756  0.078592  0.079801  0.038864  0.047996  0.091986  0.085295  0.000000\n",
       "15  0.120669  0.048604  0.050867  0.055649  0.116091  0.058987  0.039215  0.045867  0.032859  0.084262  0.053084  0.033671  0.044168  0.077081  0.077138  0.061789"
      ]
     },
     "execution_count": 104,
     "metadata": {},
     "output_type": "execute_result"
    }
   ],
   "source": [
    "pd.DataFrame(attention_score[0,0].detach().numpy())"
   ]
  },
  {
   "cell_type": "code",
   "execution_count": 105,
   "metadata": {},
   "outputs": [
    {
     "data": {
      "text/plain": [
       "tensor([[1.0000, 0.0000, 0.0000, 0.0000, 0.0000, 0.0000, 0.0000, 0.0000, 0.0000,\n",
       "         0.0000, 0.0000, 0.0000, 0.0000, 0.0000, 0.0000, 0.0000],\n",
       "        [0.6327, 0.3673, 0.0000, 0.0000, 0.0000, 0.0000, 0.0000, 0.0000, 0.0000,\n",
       "         0.0000, 0.0000, 0.0000, 0.0000, 0.0000, 0.0000, 0.0000],\n",
       "        [0.2489, 0.2274, 0.5237, 0.0000, 0.0000, 0.0000, 0.0000, 0.0000, 0.0000,\n",
       "         0.0000, 0.0000, 0.0000, 0.0000, 0.0000, 0.0000, 0.0000],\n",
       "        [0.2344, 0.2815, 0.3217, 0.1625, 0.0000, 0.0000, 0.0000, 0.0000, 0.0000,\n",
       "         0.0000, 0.0000, 0.0000, 0.0000, 0.0000, 0.0000, 0.0000],\n",
       "        [0.2343, 0.1972, 0.2013, 0.2290, 0.1383, 0.0000, 0.0000, 0.0000, 0.0000,\n",
       "         0.0000, 0.0000, 0.0000, 0.0000, 0.0000, 0.0000, 0.0000],\n",
       "        [0.2169, 0.1791, 0.1817, 0.1634, 0.1399, 0.1190, 0.0000, 0.0000, 0.0000,\n",
       "         0.0000, 0.0000, 0.0000, 0.0000, 0.0000, 0.0000, 0.0000],\n",
       "        [0.1560, 0.1257, 0.1665, 0.1038, 0.1148, 0.1793, 0.1540, 0.0000, 0.0000,\n",
       "         0.0000, 0.0000, 0.0000, 0.0000, 0.0000, 0.0000, 0.0000],\n",
       "        [0.1022, 0.0793, 0.1436, 0.0729, 0.0472, 0.1648, 0.1289, 0.2611, 0.0000,\n",
       "         0.0000, 0.0000, 0.0000, 0.0000, 0.0000, 0.0000, 0.0000],\n",
       "        [0.1198, 0.0934, 0.1648, 0.0416, 0.2263, 0.1380, 0.0638, 0.0889, 0.0634,\n",
       "         0.0000, 0.0000, 0.0000, 0.0000, 0.0000, 0.0000, 0.0000],\n",
       "        [0.1144, 0.0786, 0.0893, 0.0792, 0.1668, 0.0980, 0.0715, 0.0377, 0.1316,\n",
       "         0.1329, 0.0000, 0.0000, 0.0000, 0.0000, 0.0000, 0.0000],\n",
       "        [0.0938, 0.1216, 0.1496, 0.0617, 0.0618, 0.0871, 0.0587, 0.0753, 0.0952,\n",
       "         0.0852, 0.1101, 0.0000, 0.0000, 0.0000, 0.0000, 0.0000],\n",
       "        [0.0867, 0.0928, 0.0838, 0.0603, 0.0891, 0.0806, 0.0971, 0.0692, 0.0959,\n",
       "         0.0885, 0.0795, 0.0765, 0.0000, 0.0000, 0.0000, 0.0000],\n",
       "        [0.0979, 0.0838, 0.0791, 0.0294, 0.1715, 0.0700, 0.1008, 0.0454, 0.0516,\n",
       "         0.1168, 0.0338, 0.0461, 0.0739, 0.0000, 0.0000, 0.0000],\n",
       "        [0.0526, 0.0360, 0.0695, 0.0339, 0.0883, 0.0949, 0.0689, 0.0690, 0.0811,\n",
       "         0.0688, 0.1172, 0.0386, 0.1128, 0.0684, 0.0000, 0.0000],\n",
       "        [0.0917, 0.0491, 0.0553, 0.0616, 0.0965, 0.0601, 0.0507, 0.0497, 0.0628,\n",
       "         0.0786, 0.0798, 0.0389, 0.0480, 0.0920, 0.0853, 0.0000],\n",
       "        [0.1207, 0.0486, 0.0509, 0.0556, 0.1161, 0.0590, 0.0392, 0.0459, 0.0329,\n",
       "         0.0843, 0.0531, 0.0337, 0.0442, 0.0771, 0.0771, 0.0618]],\n",
       "       grad_fn=<SelectBackward0>)"
      ]
     },
     "execution_count": 105,
     "metadata": {},
     "output_type": "execute_result"
    }
   ],
   "source": [
    "attention_score[0,0]"
   ]
  },
  {
   "cell_type": "code",
   "execution_count": null,
   "metadata": {},
   "outputs": [],
   "source": []
  },
  {
   "cell_type": "code",
   "execution_count": 106,
   "metadata": {},
   "outputs": [
    {
     "data": {
      "text/plain": [
       "torch.Size([4, 4, 16, 16])"
      ]
     },
     "execution_count": 106,
     "metadata": {},
     "output_type": "execute_result"
    }
   ],
   "source": [
    "A.shape"
   ]
  },
  {
   "cell_type": "code",
   "execution_count": 107,
   "metadata": {},
   "outputs": [],
   "source": [
    "A = A.transpose(1,2).contiguous()\n",
    "A = A.view(batch_size, -1, d_model)"
   ]
  },
  {
   "cell_type": "markdown",
   "metadata": {},
   "source": [
    "A.shape"
   ]
  },
  {
   "cell_type": "code",
   "execution_count": 108,
   "metadata": {},
   "outputs": [
    {
     "data": {
      "text/plain": [
       "torch.Size([4, 16, 64])"
      ]
     },
     "execution_count": 108,
     "metadata": {},
     "output_type": "execute_result"
    }
   ],
   "source": [
    "A.shape"
   ]
  },
  {
   "cell_type": "code",
   "execution_count": 109,
   "metadata": {},
   "outputs": [],
   "source": [
    "Wo = nn.Linear(d_model, d_model)\n",
    "output = Wo(A)\n"
   ]
  },
  {
   "cell_type": "code",
   "execution_count": 110,
   "metadata": {},
   "outputs": [],
   "source": [
    "output = output + X"
   ]
  },
  {
   "cell_type": "code",
   "execution_count": 111,
   "metadata": {},
   "outputs": [
    {
     "data": {
      "text/plain": [
       "tensor([[[ 1.4990, -0.3425,  0.4635,  ...,  0.9253,  1.3182,  0.4416],\n",
       "         [ 1.3439, -0.7461,  2.3522,  ...,  1.1699,  0.8085,  1.2067],\n",
       "         [ 0.4248,  1.1523,  0.4801,  ...,  1.3907, -0.7241,  0.0148],\n",
       "         ...,\n",
       "         [ 0.8261, -0.3271, -2.7982,  ...,  2.8960, -0.3673, -0.5443],\n",
       "         [-0.2824,  1.0817, -0.6932,  ...,  1.4786,  0.3442,  0.6805],\n",
       "         [ 1.0254, -1.2167, -2.2732,  ...,  0.5911,  0.4745,  1.1276]],\n",
       "\n",
       "        [[-0.8084,  0.1477,  0.3044,  ...,  0.1438, -0.8533,  1.8466],\n",
       "         [ 2.3581,  0.6657, -0.9369,  ...,  1.2377, -2.8281,  1.2365],\n",
       "         [ 1.1613, -0.6605,  1.5331,  ...,  0.7474, -0.5178,  0.7363],\n",
       "         ...,\n",
       "         [ 0.9468,  2.2336, -0.9223,  ..., -0.2380,  1.3014,  1.3700],\n",
       "         [ 1.9926, -0.8190, -0.2059,  ...,  2.4073, -1.0366, -1.0036],\n",
       "         [ 1.7545, -0.4689, -0.8416,  ...,  2.4416,  1.6980, -0.3756]],\n",
       "\n",
       "        [[ 0.0582, -1.5160, -0.7490,  ..., -0.4399, -1.8250,  0.4969],\n",
       "         [-0.6959,  1.5554,  0.3497,  ..., -0.0401,  0.6761,  1.2784],\n",
       "         [ 1.0386, -0.5832,  1.3345,  ...,  0.9095, -0.5516,  0.6670],\n",
       "         ...,\n",
       "         [ 0.0190,  0.4707,  0.1816,  ..., -0.1575, -0.6685, -1.0539],\n",
       "         [ 0.0879,  0.9930, -1.3389,  ...,  1.3151,  0.1046,  0.5602],\n",
       "         [ 0.1345, -0.3659,  1.1229,  ...,  1.8651, -1.9769,  1.1447]],\n",
       "\n",
       "        [[-1.0679,  2.8580,  0.3103,  ...,  0.8177,  0.8565, -0.4662],\n",
       "         [ 3.1429,  2.4045, -0.4135,  ...,  1.8468, -1.6783, -0.5894],\n",
       "         [ 0.2306, -0.2711,  1.9299,  ...,  0.7828, -1.2063,  1.0957],\n",
       "         ...,\n",
       "         [-1.3167,  0.2909,  0.5814,  ...,  0.4808,  1.1020,  1.4894],\n",
       "         [ 2.0033,  0.0048, -0.3804,  ...,  1.5628, -1.4120,  0.3299],\n",
       "         [-0.2489, -0.2958, -3.4724,  ...,  1.3914, -0.4303,  0.6294]]],\n",
       "       grad_fn=<AddBackward0>)"
      ]
     },
     "execution_count": 111,
     "metadata": {},
     "output_type": "execute_result"
    }
   ],
   "source": [
    "output"
   ]
  },
  {
   "cell_type": "code",
   "execution_count": 112,
   "metadata": {},
   "outputs": [],
   "source": [
    "layer_norm = nn.LayerNorm(d_model)\n",
    "output_layernorm = layer_norm(output)"
   ]
  },
  {
   "cell_type": "code",
   "execution_count": 113,
   "metadata": {},
   "outputs": [
    {
     "ename": "RuntimeError",
     "evalue": "mat1 and mat2 shapes cannot be multiplied (64x64 and 256x64)",
     "output_type": "error",
     "traceback": [
      "\u001b[0;31m---------------------------------------------------------------------------\u001b[0m",
      "\u001b[0;31mRuntimeError\u001b[0m                              Traceback (most recent call last)",
      "Cell \u001b[0;32mIn[113], line 3\u001b[0m\n\u001b[1;32m      1\u001b[0m outout  \u001b[38;5;241m=\u001b[39m nn\u001b[38;5;241m.\u001b[39mLinear(d_model, d_model\u001b[38;5;241m*\u001b[39m\u001b[38;5;241m4\u001b[39m)(output_layernorm)\n\u001b[1;32m      2\u001b[0m output \u001b[38;5;241m=\u001b[39m nn\u001b[38;5;241m.\u001b[39mReLU()(output)\n\u001b[0;32m----> 3\u001b[0m output \u001b[38;5;241m=\u001b[39m \u001b[43mnn\u001b[49m\u001b[38;5;241;43m.\u001b[39;49m\u001b[43mLinear\u001b[49m\u001b[43m(\u001b[49m\u001b[43md_model\u001b[49m\u001b[38;5;241;43m*\u001b[39;49m\u001b[38;5;241;43m4\u001b[39;49m\u001b[43m,\u001b[49m\u001b[43m \u001b[49m\u001b[43md_model\u001b[49m\u001b[43m)\u001b[49m\u001b[43m(\u001b[49m\u001b[43moutput\u001b[49m\u001b[43m)\u001b[49m\n\u001b[1;32m      4\u001b[0m output \u001b[38;5;241m=\u001b[39m output \u001b[38;5;241m+\u001b[39m output_layernorm\n\u001b[1;32m      5\u001b[0m output \u001b[38;5;241m=\u001b[39m layer_norm(output)\n",
      "File \u001b[0;32m~/PycharmProjects/Transformer-from-scratch/.conda/lib/python3.12/site-packages/torch/nn/modules/module.py:1736\u001b[0m, in \u001b[0;36mModule._wrapped_call_impl\u001b[0;34m(self, *args, **kwargs)\u001b[0m\n\u001b[1;32m   1734\u001b[0m     \u001b[38;5;28;01mreturn\u001b[39;00m \u001b[38;5;28mself\u001b[39m\u001b[38;5;241m.\u001b[39m_compiled_call_impl(\u001b[38;5;241m*\u001b[39margs, \u001b[38;5;241m*\u001b[39m\u001b[38;5;241m*\u001b[39mkwargs)  \u001b[38;5;66;03m# type: ignore[misc]\u001b[39;00m\n\u001b[1;32m   1735\u001b[0m \u001b[38;5;28;01melse\u001b[39;00m:\n\u001b[0;32m-> 1736\u001b[0m     \u001b[38;5;28;01mreturn\u001b[39;00m \u001b[38;5;28;43mself\u001b[39;49m\u001b[38;5;241;43m.\u001b[39;49m\u001b[43m_call_impl\u001b[49m\u001b[43m(\u001b[49m\u001b[38;5;241;43m*\u001b[39;49m\u001b[43margs\u001b[49m\u001b[43m,\u001b[49m\u001b[43m \u001b[49m\u001b[38;5;241;43m*\u001b[39;49m\u001b[38;5;241;43m*\u001b[39;49m\u001b[43mkwargs\u001b[49m\u001b[43m)\u001b[49m\n",
      "File \u001b[0;32m~/PycharmProjects/Transformer-from-scratch/.conda/lib/python3.12/site-packages/torch/nn/modules/module.py:1747\u001b[0m, in \u001b[0;36mModule._call_impl\u001b[0;34m(self, *args, **kwargs)\u001b[0m\n\u001b[1;32m   1742\u001b[0m \u001b[38;5;66;03m# If we don't have any hooks, we want to skip the rest of the logic in\u001b[39;00m\n\u001b[1;32m   1743\u001b[0m \u001b[38;5;66;03m# this function, and just call forward.\u001b[39;00m\n\u001b[1;32m   1744\u001b[0m \u001b[38;5;28;01mif\u001b[39;00m \u001b[38;5;129;01mnot\u001b[39;00m (\u001b[38;5;28mself\u001b[39m\u001b[38;5;241m.\u001b[39m_backward_hooks \u001b[38;5;129;01mor\u001b[39;00m \u001b[38;5;28mself\u001b[39m\u001b[38;5;241m.\u001b[39m_backward_pre_hooks \u001b[38;5;129;01mor\u001b[39;00m \u001b[38;5;28mself\u001b[39m\u001b[38;5;241m.\u001b[39m_forward_hooks \u001b[38;5;129;01mor\u001b[39;00m \u001b[38;5;28mself\u001b[39m\u001b[38;5;241m.\u001b[39m_forward_pre_hooks\n\u001b[1;32m   1745\u001b[0m         \u001b[38;5;129;01mor\u001b[39;00m _global_backward_pre_hooks \u001b[38;5;129;01mor\u001b[39;00m _global_backward_hooks\n\u001b[1;32m   1746\u001b[0m         \u001b[38;5;129;01mor\u001b[39;00m _global_forward_hooks \u001b[38;5;129;01mor\u001b[39;00m _global_forward_pre_hooks):\n\u001b[0;32m-> 1747\u001b[0m     \u001b[38;5;28;01mreturn\u001b[39;00m \u001b[43mforward_call\u001b[49m\u001b[43m(\u001b[49m\u001b[38;5;241;43m*\u001b[39;49m\u001b[43margs\u001b[49m\u001b[43m,\u001b[49m\u001b[43m \u001b[49m\u001b[38;5;241;43m*\u001b[39;49m\u001b[38;5;241;43m*\u001b[39;49m\u001b[43mkwargs\u001b[49m\u001b[43m)\u001b[49m\n\u001b[1;32m   1749\u001b[0m result \u001b[38;5;241m=\u001b[39m \u001b[38;5;28;01mNone\u001b[39;00m\n\u001b[1;32m   1750\u001b[0m called_always_called_hooks \u001b[38;5;241m=\u001b[39m \u001b[38;5;28mset\u001b[39m()\n",
      "File \u001b[0;32m~/PycharmProjects/Transformer-from-scratch/.conda/lib/python3.12/site-packages/torch/nn/modules/linear.py:125\u001b[0m, in \u001b[0;36mLinear.forward\u001b[0;34m(self, input)\u001b[0m\n\u001b[1;32m    124\u001b[0m \u001b[38;5;28;01mdef\u001b[39;00m \u001b[38;5;21mforward\u001b[39m(\u001b[38;5;28mself\u001b[39m, \u001b[38;5;28minput\u001b[39m: Tensor) \u001b[38;5;241m-\u001b[39m\u001b[38;5;241m>\u001b[39m Tensor:\n\u001b[0;32m--> 125\u001b[0m     \u001b[38;5;28;01mreturn\u001b[39;00m \u001b[43mF\u001b[49m\u001b[38;5;241;43m.\u001b[39;49m\u001b[43mlinear\u001b[49m\u001b[43m(\u001b[49m\u001b[38;5;28;43minput\u001b[39;49m\u001b[43m,\u001b[49m\u001b[43m \u001b[49m\u001b[38;5;28;43mself\u001b[39;49m\u001b[38;5;241;43m.\u001b[39;49m\u001b[43mweight\u001b[49m\u001b[43m,\u001b[49m\u001b[43m \u001b[49m\u001b[38;5;28;43mself\u001b[39;49m\u001b[38;5;241;43m.\u001b[39;49m\u001b[43mbias\u001b[49m\u001b[43m)\u001b[49m\n",
      "\u001b[0;31mRuntimeError\u001b[0m: mat1 and mat2 shapes cannot be multiplied (64x64 and 256x64)"
     ]
    }
   ],
   "source": [
    "outout  = nn.Linear(d_model, d_model*4)(output_layernorm)\n",
    "output = nn.ReLU()(output)\n",
    "output = nn.Linear(d_model*4, d_model)(output)\n",
    "output = output + output_layernorm\n",
    "output = layer_norm(output)\n"
   ]
  },
  {
   "cell_type": "code",
   "execution_count": 114,
   "metadata": {},
   "outputs": [
    {
     "data": {
      "text/plain": [
       "tensor([[[1.4990, 0.0000, 0.4635,  ..., 0.9253, 1.3182, 0.4416],\n",
       "         [1.3439, 0.0000, 2.3522,  ..., 1.1699, 0.8085, 1.2067],\n",
       "         [0.4248, 1.1523, 0.4801,  ..., 1.3907, 0.0000, 0.0148],\n",
       "         ...,\n",
       "         [0.8261, 0.0000, 0.0000,  ..., 2.8960, 0.0000, 0.0000],\n",
       "         [0.0000, 1.0817, 0.0000,  ..., 1.4786, 0.3442, 0.6805],\n",
       "         [1.0254, 0.0000, 0.0000,  ..., 0.5911, 0.4745, 1.1276]],\n",
       "\n",
       "        [[0.0000, 0.1477, 0.3044,  ..., 0.1438, 0.0000, 1.8466],\n",
       "         [2.3581, 0.6657, 0.0000,  ..., 1.2377, 0.0000, 1.2365],\n",
       "         [1.1613, 0.0000, 1.5331,  ..., 0.7474, 0.0000, 0.7363],\n",
       "         ...,\n",
       "         [0.9468, 2.2336, 0.0000,  ..., 0.0000, 1.3014, 1.3700],\n",
       "         [1.9926, 0.0000, 0.0000,  ..., 2.4073, 0.0000, 0.0000],\n",
       "         [1.7545, 0.0000, 0.0000,  ..., 2.4416, 1.6980, 0.0000]],\n",
       "\n",
       "        [[0.0582, 0.0000, 0.0000,  ..., 0.0000, 0.0000, 0.4969],\n",
       "         [0.0000, 1.5554, 0.3497,  ..., 0.0000, 0.6761, 1.2784],\n",
       "         [1.0386, 0.0000, 1.3345,  ..., 0.9095, 0.0000, 0.6670],\n",
       "         ...,\n",
       "         [0.0190, 0.4707, 0.1816,  ..., 0.0000, 0.0000, 0.0000],\n",
       "         [0.0879, 0.9930, 0.0000,  ..., 1.3151, 0.1046, 0.5602],\n",
       "         [0.1345, 0.0000, 1.1229,  ..., 1.8651, 0.0000, 1.1447]],\n",
       "\n",
       "        [[0.0000, 2.8580, 0.3103,  ..., 0.8177, 0.8565, 0.0000],\n",
       "         [3.1429, 2.4045, 0.0000,  ..., 1.8468, 0.0000, 0.0000],\n",
       "         [0.2306, 0.0000, 1.9299,  ..., 0.7828, 0.0000, 1.0957],\n",
       "         ...,\n",
       "         [0.0000, 0.2909, 0.5814,  ..., 0.4808, 1.1020, 1.4894],\n",
       "         [2.0033, 0.0048, 0.0000,  ..., 1.5628, 0.0000, 0.3299],\n",
       "         [0.0000, 0.0000, 0.0000,  ..., 1.3914, 0.0000, 0.6294]]],\n",
       "       grad_fn=<ReluBackward0>)"
      ]
     },
     "execution_count": 114,
     "metadata": {},
     "output_type": "execute_result"
    }
   ],
   "source": [
    "output"
   ]
  },
  {
   "cell_type": "code",
   "execution_count": 115,
   "metadata": {},
   "outputs": [
    {
     "data": {
      "text/plain": [
       "torch.Size([4, 16, 100070])"
      ]
     },
     "execution_count": 115,
     "metadata": {},
     "output_type": "execute_result"
    }
   ],
   "source": [
    "logits  = nn.Linear(d_model, max_token_value+1)(output)\n",
    "logits.shape"
   ]
  },
  {
   "cell_type": "code",
   "execution_count": 116,
   "metadata": {},
   "outputs": [
    {
     "data": {
      "text/html": [
       "<div>\n",
       "<style scoped>\n",
       "    .dataframe tbody tr th:only-of-type {\n",
       "        vertical-align: middle;\n",
       "    }\n",
       "\n",
       "    .dataframe tbody tr th {\n",
       "        vertical-align: top;\n",
       "    }\n",
       "\n",
       "    .dataframe thead th {\n",
       "        text-align: right;\n",
       "    }\n",
       "</style>\n",
       "<table border=\"1\" class=\"dataframe\">\n",
       "  <thead>\n",
       "    <tr style=\"text-align: right;\">\n",
       "      <th></th>\n",
       "      <th>0</th>\n",
       "      <th>1</th>\n",
       "      <th>2</th>\n",
       "      <th>3</th>\n",
       "      <th>4</th>\n",
       "      <th>5</th>\n",
       "      <th>6</th>\n",
       "      <th>7</th>\n",
       "      <th>8</th>\n",
       "      <th>9</th>\n",
       "      <th>...</th>\n",
       "      <th>100060</th>\n",
       "      <th>100061</th>\n",
       "      <th>100062</th>\n",
       "      <th>100063</th>\n",
       "      <th>100064</th>\n",
       "      <th>100065</th>\n",
       "      <th>100066</th>\n",
       "      <th>100067</th>\n",
       "      <th>100068</th>\n",
       "      <th>100069</th>\n",
       "    </tr>\n",
       "  </thead>\n",
       "  <tbody>\n",
       "    <tr>\n",
       "      <th>0</th>\n",
       "      <td>0.000005</td>\n",
       "      <td>0.000009</td>\n",
       "      <td>0.000013</td>\n",
       "      <td>0.000005</td>\n",
       "      <td>0.000007</td>\n",
       "      <td>0.000003</td>\n",
       "      <td>0.000004</td>\n",
       "      <td>0.000005</td>\n",
       "      <td>0.000006</td>\n",
       "      <td>0.000006</td>\n",
       "      <td>...</td>\n",
       "      <td>0.000005</td>\n",
       "      <td>0.000003</td>\n",
       "      <td>0.000005</td>\n",
       "      <td>0.000005</td>\n",
       "      <td>0.000003</td>\n",
       "      <td>0.000007</td>\n",
       "      <td>0.000006</td>\n",
       "      <td>0.000022</td>\n",
       "      <td>0.000006</td>\n",
       "      <td>0.000006</td>\n",
       "    </tr>\n",
       "    <tr>\n",
       "      <th>1</th>\n",
       "      <td>0.000007</td>\n",
       "      <td>0.000007</td>\n",
       "      <td>0.000030</td>\n",
       "      <td>0.000006</td>\n",
       "      <td>0.000006</td>\n",
       "      <td>0.000007</td>\n",
       "      <td>0.000003</td>\n",
       "      <td>0.000010</td>\n",
       "      <td>0.000004</td>\n",
       "      <td>0.000005</td>\n",
       "      <td>...</td>\n",
       "      <td>0.000018</td>\n",
       "      <td>0.000004</td>\n",
       "      <td>0.000004</td>\n",
       "      <td>0.000012</td>\n",
       "      <td>0.000003</td>\n",
       "      <td>0.000007</td>\n",
       "      <td>0.000008</td>\n",
       "      <td>0.000022</td>\n",
       "      <td>0.000006</td>\n",
       "      <td>0.000005</td>\n",
       "    </tr>\n",
       "    <tr>\n",
       "      <th>2</th>\n",
       "      <td>0.000005</td>\n",
       "      <td>0.000008</td>\n",
       "      <td>0.000026</td>\n",
       "      <td>0.000004</td>\n",
       "      <td>0.000006</td>\n",
       "      <td>0.000003</td>\n",
       "      <td>0.000008</td>\n",
       "      <td>0.000003</td>\n",
       "      <td>0.000005</td>\n",
       "      <td>0.000010</td>\n",
       "      <td>...</td>\n",
       "      <td>0.000024</td>\n",
       "      <td>0.000004</td>\n",
       "      <td>0.000009</td>\n",
       "      <td>0.000006</td>\n",
       "      <td>0.000003</td>\n",
       "      <td>0.000005</td>\n",
       "      <td>0.000009</td>\n",
       "      <td>0.000023</td>\n",
       "      <td>0.000009</td>\n",
       "      <td>0.000002</td>\n",
       "    </tr>\n",
       "    <tr>\n",
       "      <th>3</th>\n",
       "      <td>0.000006</td>\n",
       "      <td>0.000007</td>\n",
       "      <td>0.000012</td>\n",
       "      <td>0.000011</td>\n",
       "      <td>0.000008</td>\n",
       "      <td>0.000009</td>\n",
       "      <td>0.000004</td>\n",
       "      <td>0.000003</td>\n",
       "      <td>0.000006</td>\n",
       "      <td>0.000008</td>\n",
       "      <td>...</td>\n",
       "      <td>0.000013</td>\n",
       "      <td>0.000005</td>\n",
       "      <td>0.000006</td>\n",
       "      <td>0.000005</td>\n",
       "      <td>0.000013</td>\n",
       "      <td>0.000007</td>\n",
       "      <td>0.000005</td>\n",
       "      <td>0.000015</td>\n",
       "      <td>0.000013</td>\n",
       "      <td>0.000005</td>\n",
       "    </tr>\n",
       "    <tr>\n",
       "      <th>4</th>\n",
       "      <td>0.000004</td>\n",
       "      <td>0.000005</td>\n",
       "      <td>0.000017</td>\n",
       "      <td>0.000006</td>\n",
       "      <td>0.000012</td>\n",
       "      <td>0.000008</td>\n",
       "      <td>0.000010</td>\n",
       "      <td>0.000003</td>\n",
       "      <td>0.000003</td>\n",
       "      <td>0.000008</td>\n",
       "      <td>...</td>\n",
       "      <td>0.000018</td>\n",
       "      <td>0.000002</td>\n",
       "      <td>0.000024</td>\n",
       "      <td>0.000006</td>\n",
       "      <td>0.000004</td>\n",
       "      <td>0.000012</td>\n",
       "      <td>0.000005</td>\n",
       "      <td>0.000026</td>\n",
       "      <td>0.000011</td>\n",
       "      <td>0.000002</td>\n",
       "    </tr>\n",
       "    <tr>\n",
       "      <th>5</th>\n",
       "      <td>0.000010</td>\n",
       "      <td>0.000008</td>\n",
       "      <td>0.000019</td>\n",
       "      <td>0.000005</td>\n",
       "      <td>0.000005</td>\n",
       "      <td>0.000009</td>\n",
       "      <td>0.000007</td>\n",
       "      <td>0.000003</td>\n",
       "      <td>0.000005</td>\n",
       "      <td>0.000006</td>\n",
       "      <td>...</td>\n",
       "      <td>0.000018</td>\n",
       "      <td>0.000005</td>\n",
       "      <td>0.000016</td>\n",
       "      <td>0.000005</td>\n",
       "      <td>0.000005</td>\n",
       "      <td>0.000009</td>\n",
       "      <td>0.000006</td>\n",
       "      <td>0.000039</td>\n",
       "      <td>0.000012</td>\n",
       "      <td>0.000005</td>\n",
       "    </tr>\n",
       "    <tr>\n",
       "      <th>6</th>\n",
       "      <td>0.000005</td>\n",
       "      <td>0.000014</td>\n",
       "      <td>0.000011</td>\n",
       "      <td>0.000003</td>\n",
       "      <td>0.000011</td>\n",
       "      <td>0.000008</td>\n",
       "      <td>0.000009</td>\n",
       "      <td>0.000002</td>\n",
       "      <td>0.000003</td>\n",
       "      <td>0.000008</td>\n",
       "      <td>...</td>\n",
       "      <td>0.000014</td>\n",
       "      <td>0.000003</td>\n",
       "      <td>0.000010</td>\n",
       "      <td>0.000007</td>\n",
       "      <td>0.000005</td>\n",
       "      <td>0.000005</td>\n",
       "      <td>0.000008</td>\n",
       "      <td>0.000032</td>\n",
       "      <td>0.000007</td>\n",
       "      <td>0.000002</td>\n",
       "    </tr>\n",
       "    <tr>\n",
       "      <th>7</th>\n",
       "      <td>0.000003</td>\n",
       "      <td>0.000013</td>\n",
       "      <td>0.000016</td>\n",
       "      <td>0.000004</td>\n",
       "      <td>0.000010</td>\n",
       "      <td>0.000010</td>\n",
       "      <td>0.000003</td>\n",
       "      <td>0.000002</td>\n",
       "      <td>0.000002</td>\n",
       "      <td>0.000007</td>\n",
       "      <td>...</td>\n",
       "      <td>0.000022</td>\n",
       "      <td>0.000005</td>\n",
       "      <td>0.000028</td>\n",
       "      <td>0.000010</td>\n",
       "      <td>0.000006</td>\n",
       "      <td>0.000007</td>\n",
       "      <td>0.000007</td>\n",
       "      <td>0.000031</td>\n",
       "      <td>0.000010</td>\n",
       "      <td>0.000002</td>\n",
       "    </tr>\n",
       "    <tr>\n",
       "      <th>8</th>\n",
       "      <td>0.000003</td>\n",
       "      <td>0.000011</td>\n",
       "      <td>0.000010</td>\n",
       "      <td>0.000011</td>\n",
       "      <td>0.000003</td>\n",
       "      <td>0.000004</td>\n",
       "      <td>0.000002</td>\n",
       "      <td>0.000004</td>\n",
       "      <td>0.000004</td>\n",
       "      <td>0.000006</td>\n",
       "      <td>...</td>\n",
       "      <td>0.000009</td>\n",
       "      <td>0.000002</td>\n",
       "      <td>0.000019</td>\n",
       "      <td>0.000006</td>\n",
       "      <td>0.000005</td>\n",
       "      <td>0.000009</td>\n",
       "      <td>0.000012</td>\n",
       "      <td>0.000009</td>\n",
       "      <td>0.000007</td>\n",
       "      <td>0.000002</td>\n",
       "    </tr>\n",
       "    <tr>\n",
       "      <th>9</th>\n",
       "      <td>0.000006</td>\n",
       "      <td>0.000007</td>\n",
       "      <td>0.000009</td>\n",
       "      <td>0.000005</td>\n",
       "      <td>0.000007</td>\n",
       "      <td>0.000004</td>\n",
       "      <td>0.000005</td>\n",
       "      <td>0.000005</td>\n",
       "      <td>0.000007</td>\n",
       "      <td>0.000009</td>\n",
       "      <td>...</td>\n",
       "      <td>0.000005</td>\n",
       "      <td>0.000003</td>\n",
       "      <td>0.000006</td>\n",
       "      <td>0.000005</td>\n",
       "      <td>0.000004</td>\n",
       "      <td>0.000007</td>\n",
       "      <td>0.000006</td>\n",
       "      <td>0.000019</td>\n",
       "      <td>0.000006</td>\n",
       "      <td>0.000004</td>\n",
       "    </tr>\n",
       "    <tr>\n",
       "      <th>10</th>\n",
       "      <td>0.000005</td>\n",
       "      <td>0.000007</td>\n",
       "      <td>0.000012</td>\n",
       "      <td>0.000008</td>\n",
       "      <td>0.000003</td>\n",
       "      <td>0.000004</td>\n",
       "      <td>0.000004</td>\n",
       "      <td>0.000003</td>\n",
       "      <td>0.000004</td>\n",
       "      <td>0.000006</td>\n",
       "      <td>...</td>\n",
       "      <td>0.000010</td>\n",
       "      <td>0.000004</td>\n",
       "      <td>0.000026</td>\n",
       "      <td>0.000010</td>\n",
       "      <td>0.000003</td>\n",
       "      <td>0.000011</td>\n",
       "      <td>0.000007</td>\n",
       "      <td>0.000036</td>\n",
       "      <td>0.000007</td>\n",
       "      <td>0.000002</td>\n",
       "    </tr>\n",
       "    <tr>\n",
       "      <th>11</th>\n",
       "      <td>0.000013</td>\n",
       "      <td>0.000006</td>\n",
       "      <td>0.000022</td>\n",
       "      <td>0.000007</td>\n",
       "      <td>0.000012</td>\n",
       "      <td>0.000011</td>\n",
       "      <td>0.000015</td>\n",
       "      <td>0.000003</td>\n",
       "      <td>0.000007</td>\n",
       "      <td>0.000007</td>\n",
       "      <td>...</td>\n",
       "      <td>0.000021</td>\n",
       "      <td>0.000004</td>\n",
       "      <td>0.000011</td>\n",
       "      <td>0.000005</td>\n",
       "      <td>0.000005</td>\n",
       "      <td>0.000011</td>\n",
       "      <td>0.000009</td>\n",
       "      <td>0.000025</td>\n",
       "      <td>0.000020</td>\n",
       "      <td>0.000002</td>\n",
       "    </tr>\n",
       "    <tr>\n",
       "      <th>12</th>\n",
       "      <td>0.000004</td>\n",
       "      <td>0.000013</td>\n",
       "      <td>0.000016</td>\n",
       "      <td>0.000007</td>\n",
       "      <td>0.000013</td>\n",
       "      <td>0.000006</td>\n",
       "      <td>0.000007</td>\n",
       "      <td>0.000001</td>\n",
       "      <td>0.000005</td>\n",
       "      <td>0.000005</td>\n",
       "      <td>...</td>\n",
       "      <td>0.000025</td>\n",
       "      <td>0.000002</td>\n",
       "      <td>0.000012</td>\n",
       "      <td>0.000006</td>\n",
       "      <td>0.000003</td>\n",
       "      <td>0.000011</td>\n",
       "      <td>0.000004</td>\n",
       "      <td>0.000034</td>\n",
       "      <td>0.000013</td>\n",
       "      <td>0.000002</td>\n",
       "    </tr>\n",
       "    <tr>\n",
       "      <th>13</th>\n",
       "      <td>0.000007</td>\n",
       "      <td>0.000005</td>\n",
       "      <td>0.000022</td>\n",
       "      <td>0.000007</td>\n",
       "      <td>0.000008</td>\n",
       "      <td>0.000007</td>\n",
       "      <td>0.000017</td>\n",
       "      <td>0.000004</td>\n",
       "      <td>0.000008</td>\n",
       "      <td>0.000006</td>\n",
       "      <td>...</td>\n",
       "      <td>0.000019</td>\n",
       "      <td>0.000005</td>\n",
       "      <td>0.000014</td>\n",
       "      <td>0.000013</td>\n",
       "      <td>0.000005</td>\n",
       "      <td>0.000012</td>\n",
       "      <td>0.000006</td>\n",
       "      <td>0.000024</td>\n",
       "      <td>0.000008</td>\n",
       "      <td>0.000002</td>\n",
       "    </tr>\n",
       "    <tr>\n",
       "      <th>14</th>\n",
       "      <td>0.000006</td>\n",
       "      <td>0.000006</td>\n",
       "      <td>0.000008</td>\n",
       "      <td>0.000006</td>\n",
       "      <td>0.000013</td>\n",
       "      <td>0.000006</td>\n",
       "      <td>0.000015</td>\n",
       "      <td>0.000004</td>\n",
       "      <td>0.000005</td>\n",
       "      <td>0.000009</td>\n",
       "      <td>...</td>\n",
       "      <td>0.000010</td>\n",
       "      <td>0.000005</td>\n",
       "      <td>0.000009</td>\n",
       "      <td>0.000006</td>\n",
       "      <td>0.000008</td>\n",
       "      <td>0.000013</td>\n",
       "      <td>0.000008</td>\n",
       "      <td>0.000015</td>\n",
       "      <td>0.000010</td>\n",
       "      <td>0.000003</td>\n",
       "    </tr>\n",
       "    <tr>\n",
       "      <th>15</th>\n",
       "      <td>0.000007</td>\n",
       "      <td>0.000011</td>\n",
       "      <td>0.000014</td>\n",
       "      <td>0.000008</td>\n",
       "      <td>0.000007</td>\n",
       "      <td>0.000006</td>\n",
       "      <td>0.000008</td>\n",
       "      <td>0.000009</td>\n",
       "      <td>0.000016</td>\n",
       "      <td>0.000005</td>\n",
       "      <td>...</td>\n",
       "      <td>0.000012</td>\n",
       "      <td>0.000006</td>\n",
       "      <td>0.000005</td>\n",
       "      <td>0.000005</td>\n",
       "      <td>0.000003</td>\n",
       "      <td>0.000006</td>\n",
       "      <td>0.000007</td>\n",
       "      <td>0.000012</td>\n",
       "      <td>0.000008</td>\n",
       "      <td>0.000004</td>\n",
       "    </tr>\n",
       "  </tbody>\n",
       "</table>\n",
       "<p>16 rows × 100070 columns</p>\n",
       "</div>"
      ],
      "text/plain": [
       "      0         1         2         3         4         5         6         7         8         9       ...    100060    100061    100062    100063    100064    100065    100066    100067    100068    100069\n",
       "0   0.000005  0.000009  0.000013  0.000005  0.000007  0.000003  0.000004  0.000005  0.000006  0.000006  ...  0.000005  0.000003  0.000005  0.000005  0.000003  0.000007  0.000006  0.000022  0.000006  0.000006\n",
       "1   0.000007  0.000007  0.000030  0.000006  0.000006  0.000007  0.000003  0.000010  0.000004  0.000005  ...  0.000018  0.000004  0.000004  0.000012  0.000003  0.000007  0.000008  0.000022  0.000006  0.000005\n",
       "2   0.000005  0.000008  0.000026  0.000004  0.000006  0.000003  0.000008  0.000003  0.000005  0.000010  ...  0.000024  0.000004  0.000009  0.000006  0.000003  0.000005  0.000009  0.000023  0.000009  0.000002\n",
       "3   0.000006  0.000007  0.000012  0.000011  0.000008  0.000009  0.000004  0.000003  0.000006  0.000008  ...  0.000013  0.000005  0.000006  0.000005  0.000013  0.000007  0.000005  0.000015  0.000013  0.000005\n",
       "4   0.000004  0.000005  0.000017  0.000006  0.000012  0.000008  0.000010  0.000003  0.000003  0.000008  ...  0.000018  0.000002  0.000024  0.000006  0.000004  0.000012  0.000005  0.000026  0.000011  0.000002\n",
       "5   0.000010  0.000008  0.000019  0.000005  0.000005  0.000009  0.000007  0.000003  0.000005  0.000006  ...  0.000018  0.000005  0.000016  0.000005  0.000005  0.000009  0.000006  0.000039  0.000012  0.000005\n",
       "6   0.000005  0.000014  0.000011  0.000003  0.000011  0.000008  0.000009  0.000002  0.000003  0.000008  ...  0.000014  0.000003  0.000010  0.000007  0.000005  0.000005  0.000008  0.000032  0.000007  0.000002\n",
       "7   0.000003  0.000013  0.000016  0.000004  0.000010  0.000010  0.000003  0.000002  0.000002  0.000007  ...  0.000022  0.000005  0.000028  0.000010  0.000006  0.000007  0.000007  0.000031  0.000010  0.000002\n",
       "8   0.000003  0.000011  0.000010  0.000011  0.000003  0.000004  0.000002  0.000004  0.000004  0.000006  ...  0.000009  0.000002  0.000019  0.000006  0.000005  0.000009  0.000012  0.000009  0.000007  0.000002\n",
       "9   0.000006  0.000007  0.000009  0.000005  0.000007  0.000004  0.000005  0.000005  0.000007  0.000009  ...  0.000005  0.000003  0.000006  0.000005  0.000004  0.000007  0.000006  0.000019  0.000006  0.000004\n",
       "10  0.000005  0.000007  0.000012  0.000008  0.000003  0.000004  0.000004  0.000003  0.000004  0.000006  ...  0.000010  0.000004  0.000026  0.000010  0.000003  0.000011  0.000007  0.000036  0.000007  0.000002\n",
       "11  0.000013  0.000006  0.000022  0.000007  0.000012  0.000011  0.000015  0.000003  0.000007  0.000007  ...  0.000021  0.000004  0.000011  0.000005  0.000005  0.000011  0.000009  0.000025  0.000020  0.000002\n",
       "12  0.000004  0.000013  0.000016  0.000007  0.000013  0.000006  0.000007  0.000001  0.000005  0.000005  ...  0.000025  0.000002  0.000012  0.000006  0.000003  0.000011  0.000004  0.000034  0.000013  0.000002\n",
       "13  0.000007  0.000005  0.000022  0.000007  0.000008  0.000007  0.000017  0.000004  0.000008  0.000006  ...  0.000019  0.000005  0.000014  0.000013  0.000005  0.000012  0.000006  0.000024  0.000008  0.000002\n",
       "14  0.000006  0.000006  0.000008  0.000006  0.000013  0.000006  0.000015  0.000004  0.000005  0.000009  ...  0.000010  0.000005  0.000009  0.000006  0.000008  0.000013  0.000008  0.000015  0.000010  0.000003\n",
       "15  0.000007  0.000011  0.000014  0.000008  0.000007  0.000006  0.000008  0.000009  0.000016  0.000005  ...  0.000012  0.000006  0.000005  0.000005  0.000003  0.000006  0.000007  0.000012  0.000008  0.000004\n",
       "\n",
       "[16 rows x 100070 columns]"
      ]
     },
     "execution_count": 116,
     "metadata": {},
     "output_type": "execute_result"
    }
   ],
   "source": [
    "prob = torch.softmax(logits, dim=-1)\n",
    "pd.DataFrame(prob[0].detach().cpu().numpy())\n"
   ]
  },
  {
   "cell_type": "code",
   "execution_count": 119,
   "metadata": {},
   "outputs": [
    {
     "data": {
      "text/plain": [
       "' epidemic'"
      ]
     },
     "execution_count": 119,
     "metadata": {},
     "output_type": "execute_result"
    }
   ],
   "source": [
    "predicted_index = torch.argmax(logits[0,15]).item()\n",
    "encoding.decode([predicted_index])"
   ]
  },
  {
   "cell_type": "code",
   "execution_count": 118,
   "metadata": {},
   "outputs": [
    {
     "data": {
      "text/plain": [
       "' the sales process. The ability to effectively communicate the value and benefits of our products'"
      ]
     },
     "execution_count": 118,
     "metadata": {},
     "output_type": "execute_result"
    }
   ],
   "source": [
    "# Let's see the original input sentence\n",
    "encoding.decode(x_batch[0].tolist())"
   ]
  },
  {
   "cell_type": "code",
   "execution_count": null,
   "metadata": {},
   "outputs": [],
   "source": []
  },
  {
   "cell_type": "code",
   "execution_count": null,
   "metadata": {},
   "outputs": [],
   "source": []
  },
  {
   "cell_type": "code",
   "execution_count": null,
   "metadata": {},
   "outputs": [],
   "source": []
  }
 ],
 "metadata": {
  "kernelspec": {
   "display_name": "Python 3",
   "language": "python",
   "name": "python3"
  },
  "language_info": {
   "codemirror_mode": {
    "name": "ipython",
    "version": 3
   },
   "file_extension": ".py",
   "mimetype": "text/x-python",
   "name": "python",
   "nbconvert_exporter": "python",
   "pygments_lexer": "ipython3",
   "version": "3.12.8"
  }
 },
 "nbformat": 4,
 "nbformat_minor": 2
}
